{
 "cells": [
  {
   "cell_type": "markdown",
   "metadata": {},
   "source": [
    "# \"Rappels\" Python : listes, boucle for, parcours d'objets itérables, représentations de matrices par des listes de listes..."
   ]
  },
  {
   "cell_type": "markdown",
   "metadata": {},
   "source": [
    "## PYTHON\n",
    "Langage de programmation objet interprété, placé sous licence libre et fonctionnant sur la plupart des plates-formes.\n",
    "Il s'est beaucoup développé dans le monde scientifique, grâce à ses nombreuses bibliothèques destinées au calcul numérique (*numpy,Scipy, Matplotlib*).\n",
    "Vous pouvez télécharger gratuitement Python sur Python.org ou choisir d'installer une distribution packagée comme *anaconda* contenant tous les outils essentiels au calcul scientifique (https://www.anaconda.com/download/). \n",
    "Un peu plus tard, nous utiliserons l'environnement de développement *Spyder*, présent dans la suite Anaconda.\n",
    "\n",
    "## Jupyter\n",
    "Jupyter NoteBook est une application web qui permet de créer et de partager des documents qui contiennent du code Python et du texte. Vous pouvez, dans chaque cellule de code, taper le nombre de lignes que vous souhaitez. Pour valider l'ensemble des instructions contenues dans une cellule, **Shift + Entrée** ou le bouton **Exécuter** !  \n",
    "  \n",
    "Il est aussi possible d'ajouter des **cellules** de codes ou de textes à tout moment dans votre notebook. Ou de modifier les cellules existantes. \n"
   ]
  },
  {
   "cell_type": "markdown",
   "metadata": {},
   "source": [
    "# Listes et tuples sous Python \n",
    "Sous Python, les listes et les tuples sont des suites d'objets. \n",
    "Ces objets peuvent être de n'importe quel types et il peut y avoir des types différents dans une même liste ou dans un même tuple. "
   ]
  },
  {
   "cell_type": "code",
   "execution_count": null,
   "metadata": {},
   "outputs": [],
   "source": [
    "liste1 = [3,6,8,1,-4,7]"
   ]
  },
  {
   "cell_type": "code",
   "execution_count": null,
   "metadata": {},
   "outputs": [],
   "source": [
    "print(liste1)"
   ]
  },
  {
   "cell_type": "markdown",
   "metadata": {},
   "source": [
    "##### Remarque : mode interactif\n",
    "Dans cet environnement, l'interpréteur Python est en mode interactif. Il fonctionne un peu comme une calculette... \n",
    "Les expressions sont évaluées **et affichées**. L'usage du **print** dans ce mode n'est donc pas nécessaire."
   ]
  },
  {
   "cell_type": "code",
   "execution_count": null,
   "metadata": {},
   "outputs": [],
   "source": [
    "liste1"
   ]
  },
  {
   "cell_type": "code",
   "execution_count": null,
   "metadata": {},
   "outputs": [],
   "source": [
    "tuple1=(4,5,'a')"
   ]
  },
  {
   "cell_type": "code",
   "execution_count": null,
   "metadata": {},
   "outputs": [],
   "source": [
    "tuple1"
   ]
  },
  {
   "cell_type": "code",
   "execution_count": null,
   "metadata": {},
   "outputs": [],
   "source": [
    "liste2 = [1,'a',3,[4,7]]\n",
    "liste2"
   ]
  },
  {
   "cell_type": "markdown",
   "metadata": {},
   "source": [
    "## Séquence\n",
    "Sous Python, on utilise le terme de **séquence** lorsque les éléments d'une suite sont accessibles par un indice : \n",
    "* indice 0 pour le premier élément, 1 pour le deuxième,..., n-1 pour le n-ième\n",
    "* indice -1 pour le dernier élément, -2 pour l'avant dernier....\n",
    "\n",
    "Il est possible de définir des **tranches** (slice) d'indices en précisant éventuellement un **pas** : \n",
    "* [0:4], de l'élément d'indice 0 à celui d'indice 3 (le dernier élément n'est pas inclus) : [0:4] est équivalent à [0,1,2,3]\n",
    "* [10:18:2], de l'élément d'indice 10 à l'élément d'indice 17 avec un pas de 2 : [10:18:2] est équivalent à [10,12,14,16]\n",
    "\n",
    "Les listes, les tuples et même les chaînes de caractères sont des séquences.  \n",
    "*Les dictionnaires, que nous verrons un peu plus tard, ne sont pas des séquences, leurs éléments ne sont pas accessibles par un indice*."
   ]
  },
  {
   "cell_type": "code",
   "execution_count": null,
   "metadata": {},
   "outputs": [],
   "source": [
    "liste1"
   ]
  },
  {
   "cell_type": "code",
   "execution_count": null,
   "metadata": {},
   "outputs": [],
   "source": [
    "liste1[2]"
   ]
  },
  {
   "cell_type": "code",
   "execution_count": null,
   "metadata": {
    "scrolled": true
   },
   "outputs": [],
   "source": [
    "liste1[1:8:2]"
   ]
  },
  {
   "cell_type": "markdown",
   "metadata": {},
   "source": [
    "### Fonction len\n",
    "Très importante pour parcourir une séquence, la fonction **len** renvoie son nombre d'éléments."
   ]
  },
  {
   "cell_type": "code",
   "execution_count": null,
   "metadata": {},
   "outputs": [],
   "source": [
    "len(liste1)"
   ]
  },
  {
   "cell_type": "markdown",
   "metadata": {},
   "source": [
    "##### Remarque : chaînes de caractères\n",
    "Sous Python, les chaînes de caractères sont aussi des séquences puisqu'on peut accéder à chaque caractère d'une chaîne en utlisant des indices"
   ]
  },
  {
   "cell_type": "code",
   "execution_count": null,
   "metadata": {},
   "outputs": [],
   "source": [
    "ch='il fait beau'"
   ]
  },
  {
   "cell_type": "code",
   "execution_count": null,
   "metadata": {},
   "outputs": [],
   "source": [
    "ch[3]"
   ]
  },
  {
   "cell_type": "code",
   "execution_count": null,
   "metadata": {
    "scrolled": true
   },
   "outputs": [],
   "source": [
    "ch[0:11:2]"
   ]
  },
  {
   "cell_type": "markdown",
   "metadata": {},
   "source": [
    "## Mutables ou non mutables ?\n",
    "Les listes, à la différence des tuples sont **mutables**.\n",
    "\n",
    "Dans un objet **mutable** : \n",
    "* on peut ajouter ou enlever des éléments\n",
    "* les éléments peuvent être réaffectés"
   ]
  },
  {
   "cell_type": "markdown",
   "metadata": {},
   "source": [
    "##### Ajout d'un élément : append()"
   ]
  },
  {
   "cell_type": "code",
   "execution_count": null,
   "metadata": {},
   "outputs": [],
   "source": [
    "liste1"
   ]
  },
  {
   "cell_type": "code",
   "execution_count": null,
   "metadata": {},
   "outputs": [],
   "source": [
    "liste1.append(5)\n",
    "liste1"
   ]
  },
  {
   "cell_type": "markdown",
   "metadata": {},
   "source": [
    "##### Modification d'un élément"
   ]
  },
  {
   "cell_type": "code",
   "execution_count": null,
   "metadata": {},
   "outputs": [],
   "source": [
    "liste1[2]=0"
   ]
  },
  {
   "cell_type": "code",
   "execution_count": null,
   "metadata": {},
   "outputs": [],
   "source": [
    "liste1"
   ]
  },
  {
   "cell_type": "code",
   "execution_count": null,
   "metadata": {},
   "outputs": [],
   "source": [
    "tuple1[0]"
   ]
  },
  {
   "cell_type": "code",
   "execution_count": null,
   "metadata": {},
   "outputs": [],
   "source": [
    "tuple1[0]=2"
   ]
  },
  {
   "cell_type": "markdown",
   "metadata": {},
   "source": [
    "## Manipulation de listes : définition et méthodes\n",
    "Nous avons vu dans la première partie du cours que les ensembles pouvaient être définis **en extension** ou **en compréhension**\n",
    "* En extension, c'est-à-dire en énumérant ses éléments: $A=\\{2,4,6,8,10\\}$\n",
    "* En compréhension, en décrivant une propriété commune aux éléments de l'ensemble : $A=\\{2i ~/ ~i \\in \\{1,...,5\\}\\}$\n",
    "\n",
    "On peut faire de même pour définir une liste en Python."
   ]
  },
  {
   "cell_type": "markdown",
   "metadata": {},
   "source": [
    "##### Définition d'une liste en extension"
   ]
  },
  {
   "cell_type": "code",
   "execution_count": null,
   "metadata": {},
   "outputs": [],
   "source": [
    "liste2=[2,4,6,8,10]\n",
    "liste2"
   ]
  },
  {
   "cell_type": "markdown",
   "metadata": {},
   "source": [
    "##### Définition d'une liste en compréhension\n",
    "Pour ceux qui n'ont pas experts en Python, vous trouverez des précisions sur la **boucle for** à la suite du paragraphe sur les méthodes."
   ]
  },
  {
   "cell_type": "code",
   "execution_count": null,
   "metadata": {},
   "outputs": [],
   "source": [
    "liste3=[2*i for i in range(1,6)]\n",
    "liste3"
   ]
  },
  {
   "cell_type": "code",
   "execution_count": null,
   "metadata": {},
   "outputs": [],
   "source": [
    "liste5=[i for i in range(2,11,2)]\n",
    "liste5"
   ]
  },
  {
   "cell_type": "markdown",
   "metadata": {},
   "source": [
    "##### Remarque : initialisation d'une liste\n",
    "Sous Python, il n'est pas nécessaire de déclarer les varaibles que l'on manipule. La déclaration et l'initialisation se font en même temps.   \n",
    "Quand nous saisissons l'instruction **x=3**, Python \"devine\" que la variable **x** est de type entier, lui alloue l'espace mémoire correspondant et assigne la valeur 3 à la variable x (c'est une des caractéristiques des langages de haut niveau).  \n",
    "Python ne peut cependant pas tout deviner...Si vous souhaitez manipuler une liste **liste**, vous ne pouvez pas directement lui affecter des valeurs sans l'avoir au préalablement initialisée : "
   ]
  },
  {
   "cell_type": "code",
   "execution_count": null,
   "metadata": {},
   "outputs": [],
   "source": [
    "liste[0]=1"
   ]
  },
  {
   "cell_type": "markdown",
   "metadata": {},
   "source": [
    "Ci-dessous, quelques exemples d'initialisations de listes. Nous avons choisi de leur affecter des valeurs \"vides\" (**None**), mais nous aurions pu, bien sûr, utiliser n'importe quelle autre valeur (0, -1,\"a\"...)"
   ]
  },
  {
   "cell_type": "code",
   "execution_count": null,
   "metadata": {},
   "outputs": [],
   "source": [
    "liste6=[None]*10\n",
    "liste6"
   ]
  },
  {
   "cell_type": "code",
   "execution_count": null,
   "metadata": {},
   "outputs": [],
   "source": [
    "liste7=[None for i in range(10)]\n",
    "liste7"
   ]
  },
  {
   "cell_type": "code",
   "execution_count": null,
   "metadata": {},
   "outputs": [],
   "source": [
    "liste8=[]\n",
    "for i in range(10):\n",
    "    liste8.append(None)\n",
    "liste8"
   ]
  },
  {
   "cell_type": "markdown",
   "metadata": {},
   "source": [
    "### Méthodes sur les listes (ces méthodes sont rappelées dans le **\"Memento Python\"**)\n",
    "* **list1.append(x)** : ajoute l'élément x à la fin de la liste *list1*\n",
    "* **list1.insert(i, x)** : insère, dans *list1*, un élément à la position indiquée (i est la position de l'élément avant lequel l'insertion doit s'effectuer)\n",
    "* **list.remove(x)** : supprime de la liste le premier élément dont la valeur est égale à x \n",
    "* **list.pop(i)** : enlève de la liste l’élément situé à la position indiquée et **le renvoie** en valeur de retour \n",
    "* **list.clear()** : supprime tous les éléments de la liste\n",
    "* **list.index(x[, start[, end]])** : renvoie la position du premier élément de la liste dont la valeur égale x (en commençant par zéro)\n",
    "* **list.count(x)** : renvoie le nombre d’éléments ayant la valeur x dans la liste\n",
    "* **list.sort(key=None, reverse=False)** : classe les éléments sur place (les arguments peuvent personnaliser le classement, voir sorted() pour leur explication)\n",
    "* **list.reverse()** : inverse l’ordre des éléments de la liste, sur place\n",
    "* **list1.copy()** : renvoie une copie superficielle de la liste *list*\n",
    "* **list(list1)** : renvoie une copie profonde de la liste *list1*"
   ]
  },
  {
   "cell_type": "code",
   "execution_count": null,
   "metadata": {},
   "outputs": [],
   "source": [
    "liste = [\"a\", \"b\", \"c\",\"a\",\"c\"]\n",
    "liste.remove(\"a\")\n",
    "liste"
   ]
  },
  {
   "cell_type": "code",
   "execution_count": null,
   "metadata": {},
   "outputs": [],
   "source": [
    "liste.reverse()\n",
    "liste"
   ]
  },
  {
   "cell_type": "code",
   "execution_count": null,
   "metadata": {},
   "outputs": [],
   "source": [
    "x=liste.pop(0)"
   ]
  },
  {
   "cell_type": "code",
   "execution_count": null,
   "metadata": {},
   "outputs": [],
   "source": [
    "x"
   ]
  },
  {
   "cell_type": "code",
   "execution_count": null,
   "metadata": {},
   "outputs": [],
   "source": [
    "liste"
   ]
  },
  {
   "cell_type": "code",
   "execution_count": null,
   "metadata": {},
   "outputs": [],
   "source": [
    "y=liste.pop(-1)"
   ]
  },
  {
   "cell_type": "code",
   "execution_count": null,
   "metadata": {},
   "outputs": [],
   "source": [
    "y"
   ]
  },
  {
   "cell_type": "code",
   "execution_count": null,
   "metadata": {},
   "outputs": [],
   "source": [
    "liste"
   ]
  },
  {
   "cell_type": "code",
   "execution_count": null,
   "metadata": {},
   "outputs": [],
   "source": [
    "liste = [\"a\",\"a\",\"a\",\"b\",\"c\",\"c\"]\n",
    "liste.count(\"a\")"
   ]
  },
  {
   "cell_type": "code",
   "execution_count": null,
   "metadata": {},
   "outputs": [],
   "source": [
    "liste.insert(2, \"b\")\n",
    "liste"
   ]
  },
  {
   "cell_type": "markdown",
   "metadata": {},
   "source": [
    "### Opérations sur les listes"
   ]
  },
  {
   "cell_type": "code",
   "execution_count": null,
   "metadata": {},
   "outputs": [],
   "source": [
    "[1, 4] + [4]"
   ]
  },
  {
   "cell_type": "code",
   "execution_count": null,
   "metadata": {},
   "outputs": [],
   "source": [
    "[5, 2] * 4"
   ]
  },
  {
   "cell_type": "code",
   "execution_count": null,
   "metadata": {},
   "outputs": [],
   "source": [
    "[1, 4] == [2,4]"
   ]
  },
  {
   "cell_type": "markdown",
   "metadata": {},
   "source": [
    "# Boucle bornée (boucle for) - Parcours de listes\n",
    "La boucle for est utilisée lorsque le nombre de répétitons est déterminé à l'avance.  \n",
    "**Syntaxe basique**  \n",
    "$ \\text{for i in range(n):} \\newline\n",
    "\\hskip{1cm}\\text{instruction1} \\newline\n",
    "\\hskip{1cm}\\text{instruction2}$ \n",
    "    \n",
    "**for i in range(n)** : la variable i prend successivement les valeurs 0,1,2...jusqu'à n-1. Et pour chacune des valeurs de i. le bloc d'instructions de la boucle est exécuté.  \n",
    "Il n'y a pas de marque de début et de fin pour définir ce bloc d'instruction, celui-ci est déterminé par **l'indentation** (décalage d'une tabulation ou de 4 espaces par rapport à la position du for).  \n",
    "Il est bien sûr possible faire parcourir à i des listes qui ne commencent pas par zéros ou des entiers non consécutifs :\n",
    "* **for i in range(2,10)** : i prend toutes les valeurs de 2 à 9\n",
    "* **for i in range(2,10,3)** : i prend les valeurs 2,5,8  "
   ]
  },
  {
   "cell_type": "code",
   "execution_count": null,
   "metadata": {},
   "outputs": [],
   "source": [
    "for i in range(10,30,4):\n",
    "    print(i)"
   ]
  },
  {
   "cell_type": "markdown",
   "metadata": {},
   "source": [
    "## Objets itérables\n",
    "Les objets **iterables** sont des objets qui peuvent être parcourus avec une boucle for.\n",
    "Les objets qui sont des **séquences**, c'est-à-dire constitués d'éléments indicés, comme les listes, les tuples ou les chaînes de caractères sont **itérables**.   \n",
    "Pour parcourir les éléments d'un objet **iterable**, il n'est pas obligatoire que celui-ci soit une séquence si l'on peut parcourir directement les valeurs de cet objet. C'est la raison pour laquelle les dictionnaires, qui ne sont pas des séquences, sont quand même itérables.  \n",
    "\n",
    "Nous allons ici donner quelques exemples de parcours de listes.\n",
    "\n",
    "##### Parcours des éléments d'une liste sans utiliser les indices"
   ]
  },
  {
   "cell_type": "code",
   "execution_count": null,
   "metadata": {},
   "outputs": [],
   "source": [
    "liste=[9,6,4,-1,3,2]"
   ]
  },
  {
   "cell_type": "code",
   "execution_count": null,
   "metadata": {},
   "outputs": [],
   "source": [
    "liste"
   ]
  },
  {
   "cell_type": "code",
   "execution_count": null,
   "metadata": {},
   "outputs": [],
   "source": [
    "for val in liste:\n",
    "    print(val)"
   ]
  },
  {
   "cell_type": "markdown",
   "metadata": {},
   "source": [
    "##### Parcours des éléments d'une liste en utilisant leurs indices"
   ]
  },
  {
   "cell_type": "code",
   "execution_count": null,
   "metadata": {},
   "outputs": [],
   "source": [
    "len(liste)"
   ]
  },
  {
   "cell_type": "code",
   "execution_count": null,
   "metadata": {},
   "outputs": [],
   "source": [
    "for i in range(len(liste)):\n",
    "    print(liste[i])"
   ]
  },
  {
   "cell_type": "markdown",
   "metadata": {},
   "source": [
    "##### Une erreur et un message d'erreur classique (\"un entier n'est pas itérable\"): "
   ]
  },
  {
   "cell_type": "code",
   "execution_count": null,
   "metadata": {},
   "outputs": [],
   "source": [
    "for i in len(liste):\n",
    "    print(liste[i])"
   ]
  },
  {
   "cell_type": "markdown",
   "metadata": {},
   "source": [
    "# Applications : représentations de matrices par des listes de listes"
   ]
  },
  {
   "cell_type": "markdown",
   "metadata": {},
   "source": [
    "Dans le première partie de la ressource **R1-07 : Outils mathématiques fondamentaux**, nous abordons la notion de matrices réelles, très utiles en informatique, qui sont tout simplement des tableaux de nombres.\n",
    "\n",
    "Ci-dessous quelques exemples de matrices :  \n",
    "$M_1=\\begin{pmatrix} 1&3&-1\\\\ 2&0&4 \\end{pmatrix}$, $M_2=\\begin{pmatrix} 5&3\\\\ 2&4 \\\\ -5&1\\end{pmatrix}$, $M_3=\\begin{pmatrix} 1&0&1\\\\ 2&-5&3 \\\\ 4&7&2 \\end{pmatrix}$ et $M_4=\\begin{pmatrix} 2&1&-2\\\\ 0&2&4 \\end{pmatrix}$\n",
    "\n",
    "$M_1$ a 2 lignes et 3 colonnes, $M_2$ a 3 lignes et 2 colonnes, $M_3$ a 3 lignes et 3 colonnes, $M_4$ a 2 lignes et 3 colonnes.\n",
    "\n",
    "Pour représenter une matrice sous Python, nous pouvons utiliser une liste de listes, chaque élément de la liste correspondant à une ligne.  \n",
    "La représentation la plus usuelles d'une matrice n'est pas la liste de liste mais le tableau (**array**) que nous trouverons un peu plus tard dans la bibliothèque **numpy**. Pour l'instant la liste de liste nous permet de bien comprendre les opérations sur les matrices et la manipulation des indices."
   ]
  },
  {
   "cell_type": "code",
   "execution_count": null,
   "metadata": {},
   "outputs": [],
   "source": [
    "M2=[[5,3],[2,4],[-5,1]]\n",
    "M2"
   ]
  },
  {
   "cell_type": "code",
   "execution_count": null,
   "metadata": {},
   "outputs": [],
   "source": [
    "M3=[[1,0,1],[2,-5,3],[4,7,2]]\n",
    "M3"
   ]
  },
  {
   "cell_type": "code",
   "execution_count": null,
   "metadata": {},
   "outputs": [],
   "source": [
    "M4=[[2,1,-2],[0,2,4]]\n",
    "M4"
   ]
  },
  {
   "cell_type": "markdown",
   "metadata": {},
   "source": [
    " ##### M étant une liste de liste représentant une matrice, comment afficher le terme de la 2ème ligne et 1ère colonne de cette matrice ?\n",
    " Par exemple, pour $M_1=\\begin{pmatrix} 1&3&-1\\\\ 2&0&4 \\end{pmatrix}$, il faudrait afficher la valeur 2."
   ]
  },
  {
   "cell_type": "code",
   "execution_count": null,
   "metadata": {},
   "outputs": [],
   "source": []
  },
  {
   "cell_type": "code",
   "execution_count": null,
   "metadata": {},
   "outputs": [],
   "source": [
    "M1=[[1,3,-1],[2,0,4]]\n",
    "M1"
   ]
  },
  {
   "cell_type": "markdown",
   "metadata": {},
   "source": [
    " ##### M étant une liste de liste représentant une matrice, comment afficher le contenu de sa 2ème ligne, sous forme de liste ?\n",
    "  Par exemple, pour $M_1=\\begin{pmatrix} 1&3&-1\\\\ 2&0&4 \\end{pmatrix}$, il faudrait afficher la liste [2,0,4]."
   ]
  },
  {
   "cell_type": "code",
   "execution_count": null,
   "metadata": {},
   "outputs": [],
   "source": []
  },
  {
   "cell_type": "markdown",
   "metadata": {},
   "source": [
    " ##### Un peu plus compliqué... M étant une liste de liste représentant une matrice, comment afficher le contenu de sa 2ème colonne sous forme de liste ?\n",
    " Par exemple, pour $M_1=\\begin{pmatrix} 1&3&-1\\\\ 2&0&4 \\end{pmatrix}$, il faudrait afficher la liste [3,0].  "
   ]
  },
  {
   "cell_type": "code",
   "execution_count": null,
   "metadata": {},
   "outputs": [],
   "source": []
  },
  {
   "cell_type": "markdown",
   "metadata": {},
   "source": [
    "### Petite parenthèse sur les fonctions\n",
    "Lorsque l'on souhaite répéter le même traitement sur différents objets, on a intérêt à créer une fonction.   \n",
    "Par exemple, on souhaite extraire la colonne d'une matrice dans plusieurs circonstances, l'indice de la colonne pouvant varier ainsi que la matrice. Nous allons créer pour cela une fonction, appelée par exemple $colonne(M,j)$, qui prend en entrée (paramètres) une matrice $M$ et un indice de colonne $j$ et qui renvoie la colonne sous forme de liste.  \n",
    "La définition d'une fonction commence par l'instruction $def$. Comme pour l'instruction for, le bloc qui définit le corps de la fonction est déterminé par **l'indentation**. Le mot-clé $return$ est suivi de la valeur que la fonction doit renvoyer.  \n",
    "\n",
    "##### Les programmes suivants permettent de créer cette fonction $colonne(M,j)$."
   ]
  },
  {
   "cell_type": "markdown",
   "metadata": {},
   "source": [
    "###### Définition de la fonction colonne (colonne1) en utilisant append :"
   ]
  },
  {
   "cell_type": "code",
   "execution_count": null,
   "metadata": {},
   "outputs": [],
   "source": [
    "def colonne1(M,j):\n",
    "    col=[]\n",
    "    for i in range(len(M)):\n",
    "        col.append(M[i][j])\n",
    "    return col"
   ]
  },
  {
   "cell_type": "markdown",
   "metadata": {},
   "source": [
    "##### Appel de la fonction colonne1 :\n",
    "3ème colonne de $M_1=\\begin{pmatrix} 1&3&-1\\\\ 2&0&4 \\end{pmatrix} : j=2 ~~\\text{et}~ M=M_1$"
   ]
  },
  {
   "cell_type": "code",
   "execution_count": null,
   "metadata": {},
   "outputs": [],
   "source": [
    "colonne1(M1,2)"
   ]
  },
  {
   "cell_type": "markdown",
   "metadata": {},
   "source": [
    "###### Définition de la fonction colonne (colonne2) en utilisant une définition de liste en compréhension."
   ]
  },
  {
   "cell_type": "code",
   "execution_count": null,
   "metadata": {},
   "outputs": [],
   "source": [
    "def colonne2(M,j):\n",
    "    col=[M[i][j] for i in range(len(M))]\n",
    "    return col"
   ]
  },
  {
   "cell_type": "markdown",
   "metadata": {},
   "source": [
    "##### Appel de la fonction colonne2 :\n",
    "1ère colonne de $M_1=\\begin{pmatrix} 1&3&-1\\\\ 2&0&4 \\end{pmatrix} : j=0 ~~\\text{et}~ M=M1$"
   ]
  },
  {
   "cell_type": "code",
   "execution_count": null,
   "metadata": {},
   "outputs": [],
   "source": [
    "colonne2(M1,0)"
   ]
  },
  {
   "cell_type": "markdown",
   "metadata": {},
   "source": [
    "# Opérations sur les matrices\n",
    "Les définitions mathématiques seront précisées à la prochaine séance... Pour l'instant, les opérations sont très intuives et faciles à comprendre sur des exemples.\n",
    "## Multiplication d'une matrice par un scalaire\n",
    "$3M_1=3\\begin{pmatrix} 1&3&-1\\\\ 2&0&4 \\end{pmatrix}=\\begin{pmatrix} 3&9&-3\\\\ 6&0&12 \\end{pmatrix}$ : tous les termes de la matrice sont multipliés par 3\n",
    "## Somme de deux matrices de mêmes dimensions (mêmes nombres de lignes et de colonnes)\n",
    "$M_1+M_4=\\begin{pmatrix} 1&3&-1\\\\ 2&0&4 \\end{pmatrix}+\\begin{pmatrix} 2&1&-2\\\\ 0&2&4 \\end{pmatrix}=\\begin{pmatrix} 3&4&-3\\\\ 2&2&8 \\end{pmatrix}$ : la somme est obtenue en additionant les termes de même ligne et même colonne.\n",
    "## Produit de deux matrices \n",
    "Le produit ne s'obtient pas en faisant le produit des termes de même ligne et même colonne. Nous verrons la formule ultérieurement.\n",
    "## Transposée\n",
    "$^{t}M_1=^{t}\\begin{pmatrix} 1&3&-1\\\\ 2&0&4 \\end{pmatrix}=\\begin{pmatrix} 1&2\\\\ 3&0 \\\\ -1&4 \\end{pmatrix}$ : on échange les lignes et les colonnes.\n"
   ]
  },
  {
   "cell_type": "markdown",
   "metadata": {
    "collapsed": true
   },
   "source": [
    "# Exercices\n",
    "Ecrire les codes des fonctions suivantes : \n",
    "* une fonction $multscal(M,x)$ qui prend en paramètre une liste de liste $M$ représentant une matrice et un réel $x$ et qui renvoie la liste de liste associée au produit $xM$\n",
    "* une fonction $somme(M,N)$ qui prend en paramètre deux listes de listes $M$ et $N$ représentant deux matrice de mêmes dimensions et qui renvoie la liste de liste associée à la somme $M+N$\n",
    "* une fonction $transpose(M)$ qui prend en paramètre une liste de listes $M$ représentant une matrice et qui renvoie la liste de liste associée à la transposée $^{t}M$\n",
    "\n"
   ]
  },
  {
   "cell_type": "markdown",
   "metadata": {},
   "source": [
    "### Fonction multiscal"
   ]
  },
  {
   "cell_type": "code",
   "execution_count": null,
   "metadata": {},
   "outputs": [],
   "source": [
    "def multscal(M,x):\n",
    "    #à compléter...\n",
    "    \n",
    "    "
   ]
  },
  {
   "cell_type": "markdown",
   "metadata": {},
   "source": [
    "##### Appel de la fonction multiscal :\n",
    "$3M_1=3\\begin{pmatrix} 1&3&-1\\\\ 2&0&4 \\end{pmatrix}=\\begin{pmatrix} 3&9&-3\\\\ 6&0&12 \\end{pmatrix}$"
   ]
  },
  {
   "cell_type": "markdown",
   "metadata": {},
   "source": [
    "### Fonction somme"
   ]
  },
  {
   "cell_type": "code",
   "execution_count": null,
   "metadata": {},
   "outputs": [],
   "source": [
    "def somme(M,N):\n",
    "    #à compléter...\n",
    "    \n",
    "    "
   ]
  },
  {
   "cell_type": "markdown",
   "metadata": {},
   "source": [
    "##### Appel de la fonction somme :\n",
    "$M_1+M_4=\\begin{pmatrix} 1&3&-1\\\\ 2&0&4 \\end{pmatrix}+\\begin{pmatrix} 2&1&-2\\\\ 0&2&4 \\end{pmatrix}=\\begin{pmatrix} 3&4&-3\\\\ 2&2&8 \\end{pmatrix}$"
   ]
  },
  {
   "cell_type": "code",
   "execution_count": null,
   "metadata": {},
   "outputs": [],
   "source": [
    "somme(M1,M4)"
   ]
  },
  {
   "cell_type": "markdown",
   "metadata": {},
   "source": [
    "### Fonction transpose"
   ]
  },
  {
   "cell_type": "code",
   "execution_count": null,
   "metadata": {},
   "outputs": [],
   "source": [
    "def transpose(M):\n",
    "    #à compléter...\n",
    "    \n",
    "    "
   ]
  },
  {
   "cell_type": "markdown",
   "metadata": {},
   "source": [
    "##### Appel de la fonction transpose :\n",
    "$^{t}M_1=^{t}\\begin{pmatrix} 1&3&-1\\\\ 2&0&4 \\end{pmatrix}=\\begin{pmatrix} 1&2\\\\ 3&0 \\\\ -1&4 \\end{pmatrix}$"
   ]
  },
  {
   "cell_type": "code",
   "execution_count": null,
   "metadata": {},
   "outputs": [],
   "source": [
    "transpose(M1)"
   ]
  }
 ],
 "metadata": {
  "kernelspec": {
   "display_name": "Python 3",
   "language": "python",
   "name": "python3"
  },
  "language_info": {
   "codemirror_mode": {
    "name": "ipython",
    "version": 3
   },
   "file_extension": ".py",
   "mimetype": "text/x-python",
   "name": "python",
   "nbconvert_exporter": "python",
   "pygments_lexer": "ipython3",
   "version": "3.8.8"
  }
 },
 "nbformat": 4,
 "nbformat_minor": 1
}
